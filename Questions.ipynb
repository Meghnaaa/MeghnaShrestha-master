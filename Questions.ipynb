{
 "cells": [
  {
   "cell_type": "markdown",
   "metadata": {},
   "source": [
    "# Q. You are given a string and your task is to swap cases. In other words, convert all lowercase letters to uppercase letters and vice versa.\n",
    "\n",
    "input: 'This is mE 123'\n",
    "\n",
    "output: 'tHIS IS Me 123'"
   ]
  },
  {
   "cell_type": "code",
   "execution_count": 1,
   "metadata": {},
   "outputs": [
    {
     "name": "stdout",
     "output_type": "stream",
     "text": [
      "Ënter a sentence : hello WORLD PythON 45 \n"
     ]
    },
    {
     "data": {
      "text/plain": [
       "'HELLO world pYTHon 45 '"
      ]
     },
     "execution_count": 1,
     "metadata": {},
     "output_type": "execute_result"
    }
   ],
   "source": [
    "\n",
    "def swap_case(my_input):\n",
    "    output = \"\"\n",
    "    for ch in my_input:\n",
    "        if ch.islower():\n",
    "            output += ch.upper()\n",
    "        else:\n",
    "            output += ch.lower()\n",
    "    return output\n",
    "\n",
    "sentence =input(\"Ënter a sentence : \")\n",
    "swap_case(sentence)\n"
   ]
  },
  {
   "cell_type": "code",
   "execution_count": 2,
   "metadata": {},
   "outputs": [
    {
     "name": "stdout",
     "output_type": "stream",
     "text": [
      "HELLO world pYTHon 45 \n"
     ]
    }
   ],
   "source": [
    "#list comprehension\n",
    "convert = [ch.lower() if ch.isupper() else ch.upper() for ch in sentence]\n",
    "print(''.join(convert))"
   ]
  },
  {
   "cell_type": "markdown",
   "metadata": {},
   "source": [
    "# Q. The user enters a string and a substring. You have to print the number of times that the substring occurs in the given string. String traversal will take place from left to right, not from right to left.\n",
    "\n",
    "Input: \n",
    "\n",
    "ABCDCDC\n",
    "\n",
    "CDC\n",
    "\n",
    "Output:\n",
    "\n",
    "2"
   ]
  },
  {
   "cell_type": "code",
   "execution_count": 3,
   "metadata": {
    "scrolled": false
   },
   "outputs": [
    {
     "name": "stdout",
     "output_type": "stream",
     "text": [
      "Enter a string : ABCDBCDBCDBCDCD\n",
      "Enter a sub string : BCD\n",
      "4\n"
     ]
    }
   ],
   "source": [
    "def count_substring(my_input, sub):\n",
    "    count = 0\n",
    "    input_len = len(my_input)\n",
    "    sub_len = len(sub)\n",
    "    \n",
    "    for ch in range(0, input_len):\n",
    "        if my_input[ch] == sub[0]:\n",
    "            if my_input[ch:ch + sub_len] == sub:\n",
    "                count += 1\n",
    "    return count\n",
    "\n",
    "x = input(\"Enter a string : \")\n",
    "y = input(\"Enter a sub string : \")\n",
    "print(count_substring(x,y))\n"
   ]
  },
  {
   "cell_type": "markdown",
   "metadata": {},
   "source": [
    "# Q. Write a class in which it's one method accepts a string from consloe and another method to print the characters that have even indices.\n",
    "\n",
    "Example:\n",
    "If the following string is given as input to the program:\n",
    "H1e2l3l4o5w6o7r8l9d\n",
    "\n",
    "Then,the oputput of the program should be:\n",
    "\n",
    "Helloworld\n"
   ]
  },
  {
   "cell_type": "code",
   "execution_count": 10,
   "metadata": {},
   "outputs": [
    {
     "name": "stdout",
     "output_type": "stream",
     "text": [
      "Enter a sentence : H1e2l3l4o5w6o7r8l9d\n",
      "Output :  Helloworld\n"
     ]
    }
   ],
   "source": [
    "class Program:\n",
    "    def __init__(self):\n",
    "        self.my_input = \"\"\n",
    "        self.my_output = \"\"\n",
    "        \n",
    "    def take_input(self):\n",
    "        self.my_input = input(\"Enter a sentence : \")\n",
    "        \n",
    "    def print_even_indices(self):\n",
    "        for ch in self.my_input:\n",
    "            if self.my_input.index(ch) % 2 == 0:\n",
    "                self.my_output += ch\n",
    "        print(\"Output : \",self.my_output)\n",
    "        \n",
    "def func():\n",
    "    p = Program()\n",
    "    p.take_input()\n",
    "    p.print_even_indices()\n",
    "    \n",
    "func()"
   ]
  },
  {
   "cell_type": "markdown",
   "metadata": {},
   "source": [
    "# Q. Write a Python program to replace last value of tuple in a list."
   ]
  },
  {
   "cell_type": "markdown",
   "metadata": {},
   "source": [
    "Sample list: [(10, 20, 40), (40, 50, 60), (70, 80, 90)]\n",
    "\n",
    "Expected Output: [(10, 20, 100), (40, 50, 100), (70, 80, 100)]"
   ]
  },
  {
   "cell_type": "code",
   "execution_count": 5,
   "metadata": {
    "scrolled": true
   },
   "outputs": [
    {
     "data": {
      "text/plain": [
       "[(10, 20, 100), (40, 50, 100), (70, 80, 100)]"
      ]
     },
     "execution_count": 5,
     "metadata": {},
     "output_type": "execute_result"
    }
   ],
   "source": [
    "lst = [(10, 20, 40), (40, 50, 60), (70, 80, 90)]\n",
    "new_lst = []\n",
    "for tup in lst:\n",
    "    n = tup[:-1]  + (100,)\n",
    "    new_lst.append(n)\n",
    "new_lst"
   ]
  },
  {
   "cell_type": "code",
   "execution_count": 6,
   "metadata": {},
   "outputs": [
    {
     "name": "stdout",
     "output_type": "stream",
     "text": [
      "[(10, 20, 100), (40, 50, 100), (70, 80, 100)]\n"
     ]
    }
   ],
   "source": [
    "my_list = [i[:-1] + (100,) for i in lst]\n",
    "print(my_list)"
   ]
  },
  {
   "cell_type": "code",
   "execution_count": null,
   "metadata": {},
   "outputs": [],
   "source": []
  }
 ],
 "metadata": {
  "kernelspec": {
   "display_name": "Python 3",
   "language": "python",
   "name": "python3"
  },
  "language_info": {
   "codemirror_mode": {
    "name": "ipython",
    "version": 3
   },
   "file_extension": ".py",
   "mimetype": "text/x-python",
   "name": "python",
   "nbconvert_exporter": "python",
   "pygments_lexer": "ipython3",
   "version": "3.6.5"
  }
 },
 "nbformat": 4,
 "nbformat_minor": 2
}
